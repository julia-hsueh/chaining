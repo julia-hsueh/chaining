{
 "cells": [
  {
   "attachments": {},
   "cell_type": "markdown",
   "metadata": {},
   "source": [
    "這邊有一個資料集是我去識別後的 POS data\n",
    "總共四個資料集\n",
    "\n",
    "basket_item 被分成好幾個因為比較大\n",
    "\n",
    "請大家嘗試把四個資料及合併並嘗試回答以下問題：\n",
    "找到最佳的產品與顧客組合能帶給我最高的 revenue\n",
    "\n",
    "此 side-project 並非現階段重要任務，目的是要讓大家熟悉 pandas, polars （）, chaining\n",
    "請大家找時間練習，把你發現的竅門跟心得記錄下來做為教材\n",
    "若太難我們可以將其難度降低，請隨時回饋問題或題目調整\n",
    "此資料即將作為 pandas 最後章節的應用實戰"
   ]
  },
  {
   "attachments": {},
   "cell_type": "markdown",
   "metadata": {},
   "source": [
    "### 找到最佳的產品與顧客組合能帶給我最高的 revenue\n"
   ]
  },
  {
   "cell_type": "code",
   "execution_count": 1,
   "metadata": {},
   "outputs": [],
   "source": [
    "# for data cleaning and processing\n",
    "import numpy as np\n",
    "import pandas as pd\n",
    "import datetime as dt\n",
    "\n",
    "# for drawing\n",
    "import seaborn as sns\n",
    "import matplotlib.pyplot as plt\n",
    "\n",
    "# for ignoring warning messages\n",
    "import warnings\n",
    "warnings.filterwarnings('ignore')"
   ]
  },
  {
   "cell_type": "code",
   "execution_count": 2,
   "metadata": {},
   "outputs": [],
   "source": [
    "import pandas as pd\n",
    "import time\n",
    "start_time = time.time()\n",
    "df_basket_items = (\n",
    "    pd.read_csv('basket_items_modified_4月.csv')\n",
    "    .append(pd.read_csv('basket_items_modified_5月.csv'), ignore_index=True)\n",
    "    .append(pd.read_csv('basket_items_modified_6月.csv'), ignore_index=True)\n",
    "    .append(pd.read_csv('basket_items_modified_7月.csv'), ignore_index=True)\n",
    "    .append(pd.read_csv('basket_items_modified_8月.csv'), ignore_index=True)\n",
    "    .append(pd.read_csv('basket_items_modified_9月.csv'), ignore_index=True)\n",
    ")\n",
    "\n",
    "df_credit_card = pd.read_csv('credict_card_modified.csv')\n",
    "df_ele_data = pd.read_csv('ele_data_modified.csv')\n",
    "df_member_card = pd.read_csv('member_card_modified.csv')\n"
   ]
  },
  {
   "cell_type": "code",
   "execution_count": 6,
   "metadata": {},
   "outputs": [
    {
     "data": {
      "text/html": [
       "<div>\n",
       "<style scoped>\n",
       "    .dataframe tbody tr th:only-of-type {\n",
       "        vertical-align: middle;\n",
       "    }\n",
       "\n",
       "    .dataframe tbody tr th {\n",
       "        vertical-align: top;\n",
       "    }\n",
       "\n",
       "    .dataframe thead th {\n",
       "        text-align: right;\n",
       "    }\n",
       "</style>\n",
       "<table border=\"1\" class=\"dataframe\">\n",
       "  <thead>\n",
       "    <tr style=\"text-align: right;\">\n",
       "      <th></th>\n",
       "      <th>門市代碼</th>\n",
       "      <th>銷售日期</th>\n",
       "      <th>機台</th>\n",
       "      <th>序號</th>\n",
       "      <th>貨號</th>\n",
       "      <th>短品名</th>\n",
       "      <th>條碼</th>\n",
       "      <th>銷售數量</th>\n",
       "      <th>單價</th>\n",
       "      <th>總金額</th>\n",
       "      <th>門市代碼_</th>\n",
       "      <th>機台_</th>\n",
       "      <th>序號_</th>\n",
       "    </tr>\n",
       "  </thead>\n",
       "  <tbody>\n",
       "    <tr>\n",
       "      <th>0</th>\n",
       "      <td>585000</td>\n",
       "      <td>2018-04-02</td>\n",
       "      <td>43</td>\n",
       "      <td>752</td>\n",
       "      <td>11621</td>\n",
       "      <td>美國甜橙#138</td>\n",
       "      <td>54883</td>\n",
       "      <td>2</td>\n",
       "      <td>15</td>\n",
       "      <td>30</td>\n",
       "      <td>585000</td>\n",
       "      <td>43</td>\n",
       "      <td>752</td>\n",
       "    </tr>\n",
       "    <tr>\n",
       "      <th>1</th>\n",
       "      <td>585000</td>\n",
       "      <td>2018-04-02</td>\n",
       "      <td>43</td>\n",
       "      <td>3159</td>\n",
       "      <td>8414</td>\n",
       "      <td>維也納餐包</td>\n",
       "      <td>57649</td>\n",
       "      <td>1</td>\n",
       "      <td>39</td>\n",
       "      <td>39</td>\n",
       "      <td>585000</td>\n",
       "      <td>43</td>\n",
       "      <td>3159</td>\n",
       "    </tr>\n",
       "    <tr>\n",
       "      <th>2</th>\n",
       "      <td>585000</td>\n",
       "      <td>2018-04-02</td>\n",
       "      <td>43</td>\n",
       "      <td>1203</td>\n",
       "      <td>19487</td>\n",
       "      <td>蘇菲加長護墊</td>\n",
       "      <td>15355</td>\n",
       "      <td>1</td>\n",
       "      <td>75</td>\n",
       "      <td>75</td>\n",
       "      <td>585000</td>\n",
       "      <td>43</td>\n",
       "      <td>1203</td>\n",
       "    </tr>\n",
       "    <tr>\n",
       "      <th>3</th>\n",
       "      <td>585000</td>\n",
       "      <td>2018-04-02</td>\n",
       "      <td>47</td>\n",
       "      <td>2116</td>\n",
       "      <td>45809</td>\n",
       "      <td>可口奶滋鳳梨</td>\n",
       "      <td>53891</td>\n",
       "      <td>1</td>\n",
       "      <td>29</td>\n",
       "      <td>29</td>\n",
       "      <td>585000</td>\n",
       "      <td>47</td>\n",
       "      <td>2116</td>\n",
       "    </tr>\n",
       "    <tr>\n",
       "      <th>4</th>\n",
       "      <td>585000</td>\n",
       "      <td>2018-04-02</td>\n",
       "      <td>47</td>\n",
       "      <td>2116</td>\n",
       "      <td>18902</td>\n",
       "      <td>ＪＯ全店印花</td>\n",
       "      <td>39811</td>\n",
       "      <td>1</td>\n",
       "      <td>0</td>\n",
       "      <td>0</td>\n",
       "      <td>585000</td>\n",
       "      <td>47</td>\n",
       "      <td>2116</td>\n",
       "    </tr>\n",
       "  </tbody>\n",
       "</table>\n",
       "</div>"
      ],
      "text/plain": [
       "     門市代碼        銷售日期  機台    序號     貨號       短品名     條碼  銷售數量  單價  總金額  \\\n",
       "0  585000  2018-04-02  43   752  11621  美國甜橙#138  54883     2  15   30   \n",
       "1  585000  2018-04-02  43  3159   8414     維也納餐包  57649     1  39   39   \n",
       "2  585000  2018-04-02  43  1203  19487    蘇菲加長護墊  15355     1  75   75   \n",
       "3  585000  2018-04-02  47  2116  45809    可口奶滋鳳梨  53891     1  29   29   \n",
       "4  585000  2018-04-02  47  2116  18902    ＪＯ全店印花  39811     1   0    0   \n",
       "\n",
       "    門市代碼_  機台_   序號_  \n",
       "0  585000   43   752  \n",
       "1  585000   43  3159  \n",
       "2  585000   43  1203  \n",
       "3  585000   47  2116  \n",
       "4  585000   47  2116  "
      ]
     },
     "execution_count": 6,
     "metadata": {},
     "output_type": "execute_result"
    }
   ],
   "source": [
    "df_basket_items.head()"
   ]
  },
  {
   "attachments": {},
   "cell_type": "markdown",
   "metadata": {},
   "source": [
    "### 資料清理與過濾\n",
    "##### 處理df_basket_items"
   ]
  },
  {
   "cell_type": "code",
   "execution_count": 5,
   "metadata": {},
   "outputs": [
    {
     "ename": "TypeError",
     "evalue": "any() got an unexpected keyword argument 'dropna'",
     "output_type": "error",
     "traceback": [
      "\u001b[1;31m---------------------------------------------------------------------------\u001b[0m",
      "\u001b[1;31mTypeError\u001b[0m                                 Traceback (most recent call last)",
      "Cell \u001b[1;32mIn[5], line 2\u001b[0m\n\u001b[0;32m      1\u001b[0m \u001b[39m# 檢查空值\u001b[39;00m\n\u001b[1;32m----> 2\u001b[0m df_basket_items\u001b[39m.\u001b[39;49many(dropna\u001b[39m=\u001b[39;49m\u001b[39mFalse\u001b[39;49;00m)\n",
      "File \u001b[1;32mc:\\D\\TMR\\.venv\\Lib\\site-packages\\pandas\\util\\_decorators.py:331\u001b[0m, in \u001b[0;36mdeprecate_nonkeyword_arguments.<locals>.decorate.<locals>.wrapper\u001b[1;34m(*args, **kwargs)\u001b[0m\n\u001b[0;32m    325\u001b[0m \u001b[39mif\u001b[39;00m \u001b[39mlen\u001b[39m(args) \u001b[39m>\u001b[39m num_allow_args:\n\u001b[0;32m    326\u001b[0m     warnings\u001b[39m.\u001b[39mwarn(\n\u001b[0;32m    327\u001b[0m         msg\u001b[39m.\u001b[39mformat(arguments\u001b[39m=\u001b[39m_format_argument_list(allow_args)),\n\u001b[0;32m    328\u001b[0m         \u001b[39mFutureWarning\u001b[39;00m,\n\u001b[0;32m    329\u001b[0m         stacklevel\u001b[39m=\u001b[39mfind_stack_level(),\n\u001b[0;32m    330\u001b[0m     )\n\u001b[1;32m--> 331\u001b[0m \u001b[39mreturn\u001b[39;00m func(\u001b[39m*\u001b[39;49margs, \u001b[39m*\u001b[39;49m\u001b[39m*\u001b[39;49mkwargs)\n",
      "File \u001b[1;32mc:\\D\\TMR\\.venv\\Lib\\site-packages\\pandas\\core\\generic.py:11614\u001b[0m, in \u001b[0;36mNDFrame._add_numeric_operations.<locals>.any\u001b[1;34m(self, axis, bool_only, skipna, level, **kwargs)\u001b[0m\n\u001b[0;32m  11598\u001b[0m \u001b[39m@deprecate_nonkeyword_arguments\u001b[39m(\n\u001b[0;32m  11599\u001b[0m     version\u001b[39m=\u001b[39m\u001b[39mNone\u001b[39;00m,\n\u001b[0;32m  11600\u001b[0m     allowed_args\u001b[39m=\u001b[39m[\u001b[39m\"\u001b[39m\u001b[39mself\u001b[39m\u001b[39m\"\u001b[39m],\n\u001b[1;32m   (...)\u001b[0m\n\u001b[0;32m  11612\u001b[0m )\n\u001b[0;32m  11613\u001b[0m \u001b[39mdef\u001b[39;00m \u001b[39many\u001b[39m(\u001b[39mself\u001b[39m, axis\u001b[39m=\u001b[39m\u001b[39m0\u001b[39m, bool_only\u001b[39m=\u001b[39m\u001b[39mNone\u001b[39;00m, skipna\u001b[39m=\u001b[39m\u001b[39mTrue\u001b[39;00m, level\u001b[39m=\u001b[39m\u001b[39mNone\u001b[39;00m, \u001b[39m*\u001b[39m\u001b[39m*\u001b[39mkwargs):\n\u001b[1;32m> 11614\u001b[0m     \u001b[39mreturn\u001b[39;00m NDFrame\u001b[39m.\u001b[39;49many(\u001b[39mself\u001b[39;49m, axis, bool_only, skipna, level, \u001b[39m*\u001b[39;49m\u001b[39m*\u001b[39;49mkwargs)\n",
      "File \u001b[1;32mc:\\D\\TMR\\.venv\\Lib\\site-packages\\pandas\\core\\generic.py:11174\u001b[0m, in \u001b[0;36mNDFrame.any\u001b[1;34m(self, axis, bool_only, skipna, level, **kwargs)\u001b[0m\n\u001b[0;32m  11166\u001b[0m \u001b[39mdef\u001b[39;00m \u001b[39many\u001b[39m(\n\u001b[0;32m  11167\u001b[0m     \u001b[39mself\u001b[39m,\n\u001b[0;32m  11168\u001b[0m     axis: Axis \u001b[39m=\u001b[39m \u001b[39m0\u001b[39m,\n\u001b[1;32m   (...)\u001b[0m\n\u001b[0;32m  11172\u001b[0m     \u001b[39m*\u001b[39m\u001b[39m*\u001b[39mkwargs,\n\u001b[0;32m  11173\u001b[0m ) \u001b[39m-\u001b[39m\u001b[39m>\u001b[39m DataFrame \u001b[39m|\u001b[39m Series \u001b[39m|\u001b[39m bool_t:\n\u001b[1;32m> 11174\u001b[0m     \u001b[39mreturn\u001b[39;00m \u001b[39mself\u001b[39;49m\u001b[39m.\u001b[39;49m_logical_func(\n\u001b[0;32m  11175\u001b[0m         \u001b[39m\"\u001b[39;49m\u001b[39many\u001b[39;49m\u001b[39m\"\u001b[39;49m, nanops\u001b[39m.\u001b[39;49mnanany, axis, bool_only, skipna, level, \u001b[39m*\u001b[39;49m\u001b[39m*\u001b[39;49mkwargs\n\u001b[0;32m  11176\u001b[0m     )\n",
      "File \u001b[1;32mc:\\D\\TMR\\.venv\\Lib\\site-packages\\pandas\\core\\generic.py:11119\u001b[0m, in \u001b[0;36mNDFrame._logical_func\u001b[1;34m(self, name, func, axis, bool_only, skipna, level, **kwargs)\u001b[0m\n\u001b[0;32m  11108\u001b[0m \u001b[39m@final\u001b[39m\n\u001b[0;32m  11109\u001b[0m \u001b[39mdef\u001b[39;00m \u001b[39m_logical_func\u001b[39m(\n\u001b[0;32m  11110\u001b[0m     \u001b[39mself\u001b[39m,\n\u001b[1;32m   (...)\u001b[0m\n\u001b[0;32m  11117\u001b[0m     \u001b[39m*\u001b[39m\u001b[39m*\u001b[39mkwargs,\n\u001b[0;32m  11118\u001b[0m ) \u001b[39m-\u001b[39m\u001b[39m>\u001b[39m Series \u001b[39m|\u001b[39m bool_t:\n\u001b[1;32m> 11119\u001b[0m     nv\u001b[39m.\u001b[39;49mvalidate_logical_func((), kwargs, fname\u001b[39m=\u001b[39;49mname)\n\u001b[0;32m  11120\u001b[0m     validate_bool_kwarg(skipna, \u001b[39m\"\u001b[39m\u001b[39mskipna\u001b[39m\u001b[39m\"\u001b[39m, none_allowed\u001b[39m=\u001b[39m\u001b[39mFalse\u001b[39;00m)\n\u001b[0;32m  11121\u001b[0m     \u001b[39mif\u001b[39;00m level \u001b[39mis\u001b[39;00m \u001b[39mnot\u001b[39;00m \u001b[39mNone\u001b[39;00m:\n",
      "File \u001b[1;32mc:\\D\\TMR\\.venv\\Lib\\site-packages\\pandas\\compat\\numpy\\function.py:76\u001b[0m, in \u001b[0;36mCompatValidator.__call__\u001b[1;34m(self, args, kwargs, fname, max_fname_arg_count, method)\u001b[0m\n\u001b[0;32m     74\u001b[0m     validate_args(fname, args, max_fname_arg_count, \u001b[39mself\u001b[39m\u001b[39m.\u001b[39mdefaults)\n\u001b[0;32m     75\u001b[0m \u001b[39melif\u001b[39;00m method \u001b[39m==\u001b[39m \u001b[39m\"\u001b[39m\u001b[39mkwargs\u001b[39m\u001b[39m\"\u001b[39m:\n\u001b[1;32m---> 76\u001b[0m     validate_kwargs(fname, kwargs, \u001b[39mself\u001b[39;49m\u001b[39m.\u001b[39;49mdefaults)\n\u001b[0;32m     77\u001b[0m \u001b[39melif\u001b[39;00m method \u001b[39m==\u001b[39m \u001b[39m\"\u001b[39m\u001b[39mboth\u001b[39m\u001b[39m\"\u001b[39m:\n\u001b[0;32m     78\u001b[0m     validate_args_and_kwargs(\n\u001b[0;32m     79\u001b[0m         fname, args, kwargs, max_fname_arg_count, \u001b[39mself\u001b[39m\u001b[39m.\u001b[39mdefaults\n\u001b[0;32m     80\u001b[0m     )\n",
      "File \u001b[1;32mc:\\D\\TMR\\.venv\\Lib\\site-packages\\pandas\\util\\_validators.py:164\u001b[0m, in \u001b[0;36mvalidate_kwargs\u001b[1;34m(fname, kwargs, compat_args)\u001b[0m\n\u001b[0;32m    142\u001b[0m \u001b[39m\u001b[39m\u001b[39m\"\"\"\u001b[39;00m\n\u001b[0;32m    143\u001b[0m \u001b[39mChecks whether parameters passed to the **kwargs argument in a\u001b[39;00m\n\u001b[0;32m    144\u001b[0m \u001b[39mfunction `fname` are valid parameters as specified in `*compat_args`\u001b[39;00m\n\u001b[1;32m   (...)\u001b[0m\n\u001b[0;32m    161\u001b[0m \u001b[39mmap to the default values specified in `compat_args`\u001b[39;00m\n\u001b[0;32m    162\u001b[0m \u001b[39m\"\"\"\u001b[39;00m\n\u001b[0;32m    163\u001b[0m kwds \u001b[39m=\u001b[39m kwargs\u001b[39m.\u001b[39mcopy()\n\u001b[1;32m--> 164\u001b[0m _check_for_invalid_keys(fname, kwargs, compat_args)\n\u001b[0;32m    165\u001b[0m _check_for_default_values(fname, kwds, compat_args)\n",
      "File \u001b[1;32mc:\\D\\TMR\\.venv\\Lib\\site-packages\\pandas\\util\\_validators.py:138\u001b[0m, in \u001b[0;36m_check_for_invalid_keys\u001b[1;34m(fname, kwargs, compat_args)\u001b[0m\n\u001b[0;32m    136\u001b[0m \u001b[39mif\u001b[39;00m diff:\n\u001b[0;32m    137\u001b[0m     bad_arg \u001b[39m=\u001b[39m \u001b[39mlist\u001b[39m(diff)[\u001b[39m0\u001b[39m]\n\u001b[1;32m--> 138\u001b[0m     \u001b[39mraise\u001b[39;00m \u001b[39mTypeError\u001b[39;00m(\u001b[39mf\u001b[39m\u001b[39m\"\u001b[39m\u001b[39m{\u001b[39;00mfname\u001b[39m}\u001b[39;00m\u001b[39m() got an unexpected keyword argument \u001b[39m\u001b[39m'\u001b[39m\u001b[39m{\u001b[39;00mbad_arg\u001b[39m}\u001b[39;00m\u001b[39m'\u001b[39m\u001b[39m\"\u001b[39m)\n",
      "\u001b[1;31mTypeError\u001b[0m: any() got an unexpected keyword argument 'dropna'"
     ]
    }
   ],
   "source": [
    "# 檢查空值\n",
    "df_basket_items.cylinders.value_counts(dropna=False)"
   ]
  },
  {
   "cell_type": "code",
   "execution_count": null,
   "metadata": {},
   "outputs": [],
   "source": [
    "df_basket_items.drop(['門市代碼_', '機台_', '序號_'], axis=1, inplace=True)"
   ]
  },
  {
   "cell_type": "code",
   "execution_count": null,
   "metadata": {},
   "outputs": [],
   "source": [
    "df_basket_items['門市代碼']=df_basket_items['門市代碼'].astype('object')\n",
    "df_basket_items['銷售日期']=pd.to_datetime(df_basket_items['銷售日期'])\n",
    "df_basket_items['機台']=df_basket_items['機台'].astype('object')\n",
    "df_basket_items['序號']=df_basket_items['序號'].astype('object')\n",
    "df_basket_items['貨號']=df_basket_items['貨號'].astype('object')\n",
    "df_basket_items['條碼']=df_basket_items['條碼'].astype('object')"
   ]
  },
  {
   "cell_type": "code",
   "execution_count": null,
   "metadata": {},
   "outputs": [],
   "source": [
    "df_basket_items.info()"
   ]
  },
  {
   "cell_type": "code",
   "execution_count": null,
   "metadata": {},
   "outputs": [],
   "source": [
    "# 檢查重複\n",
    "df_basket_items.duplicated().value_counts()"
   ]
  },
  {
   "cell_type": "code",
   "execution_count": null,
   "metadata": {},
   "outputs": [],
   "source": [
    "# #把重複地拿掉\n",
    "# df_basket_items.drop_duplicates(inplace=True)"
   ]
  },
  {
   "cell_type": "code",
   "execution_count": null,
   "metadata": {},
   "outputs": [],
   "source": [
    "#df_basket_items.loc[df_basket_items.duplicated()]"
   ]
  },
  {
   "cell_type": "code",
   "execution_count": null,
   "metadata": {},
   "outputs": [],
   "source": [
    "df_basket_items.describe()"
   ]
  },
  {
   "cell_type": "code",
   "execution_count": null,
   "metadata": {},
   "outputs": [],
   "source": [
    "df_basket_items.describe(include = 'object')"
   ]
  },
  {
   "cell_type": "code",
   "execution_count": null,
   "metadata": {},
   "outputs": [],
   "source": [
    "df_basket_items.head()"
   ]
  },
  {
   "cell_type": "code",
   "execution_count": null,
   "metadata": {},
   "outputs": [],
   "source": [
    "df_basket_items.info()"
   ]
  },
  {
   "cell_type": "code",
   "execution_count": null,
   "metadata": {},
   "outputs": [],
   "source": [
    "df_commodity_count = df_basket_items.groupby('短品名')['銷售數量'].sum().reset_index().sort_values(by='銷售數量',ascending=False)\n",
    "df_commodity_count.head(20)"
   ]
  },
  {
   "cell_type": "code",
   "execution_count": null,
   "metadata": {},
   "outputs": [],
   "source": [
    "df_commodity_price = df_basket_items.groupby('短品名')['總金額'].sum().reset_index().sort_values(by='總金額',ascending=False)\n",
    "df_commodity_price.head(20)"
   ]
  },
  {
   "cell_type": "code",
   "execution_count": null,
   "metadata": {},
   "outputs": [],
   "source": [
    "import seaborn as sns\n",
    "import matplotlib.pyplot as plt\n",
    "sns.set_style(\"whitegrid\",{\"font.sans-serif\":['Microsoft JhengHei']})\n",
    "\n",
    "# 使用groupby計算'銷售數量'加總\n",
    "df_grouped = df_basket_items.groupby('短品名')['銷售數量'].sum().reset_index().sort_values(by='銷售數量',ascending=False)\n",
    "df_grouped_top20 = df_grouped.head(20)\n",
    "# 使用Seaborn繪製條形圖\n",
    "sns.barplot(x='短品名', y='銷售數量', data=df_grouped_top20)\n",
    "\n",
    "# 設定圖表標題和軸標籤\n",
    "plt.title('銷售數量加總')\n",
    "plt.xlabel('短品名')\n",
    "plt.ylabel('銷售數量')\n",
    "\n",
    "# 轉換X軸標籤為垂直方向\n",
    "plt.xticks(rotation=90)\n",
    "# 調整圖表大小，避免標籤重疊\n",
    "plt.tight_layout()\n",
    "\n",
    "# 顯示圖表\n",
    "plt.show()"
   ]
  },
  {
   "cell_type": "code",
   "execution_count": null,
   "metadata": {},
   "outputs": [],
   "source": [
    "sns.set_style(\"whitegrid\",{\"font.sans-serif\":['Microsoft JhengHei']})\n",
    "\n",
    "# 使用groupby計算'銷售數量'加總\n",
    "df_grouped = df_basket_items.groupby('短品名')['總金額'].sum().reset_index().sort_values(by='總金額',ascending=False)\n",
    "df_grouped_top20 = df_grouped.head(20)\n",
    "# 使用Seaborn繪製條形圖\n",
    "sns.barplot(x='短品名', y='總金額', data=df_grouped_top20)\n",
    "\n",
    "# 設定圖表標題和軸標籤\n",
    "plt.title('銷售金額加總')\n",
    "plt.xlabel('短品名')\n",
    "plt.ylabel('總金額')\n",
    "\n",
    "# 轉換X軸標籤為垂直方向\n",
    "plt.xticks(rotation=90)\n",
    "# 調整圖表大小，避免標籤重疊\n",
    "plt.tight_layout()\n",
    "\n",
    "# 顯示圖表\n",
    "plt.show()"
   ]
  },
  {
   "attachments": {},
   "cell_type": "markdown",
   "metadata": {},
   "source": [
    "### 處理df_credit_card 格式"
   ]
  },
  {
   "cell_type": "code",
   "execution_count": null,
   "metadata": {},
   "outputs": [],
   "source": [
    "# 檢查空值\n",
    "df_credit_card.isna().any()"
   ]
  },
  {
   "cell_type": "code",
   "execution_count": null,
   "metadata": {},
   "outputs": [],
   "source": [
    "df_credit_card['項次']=df_credit_card['項次'].astype('object')\n",
    "df_credit_card['銷售日期']=pd.to_datetime(df_credit_card['銷售日期'])\n",
    "df_credit_card['機台']=df_credit_card['機台'].astype('object')\n",
    "df_credit_card['序號']=df_credit_card['序號'].astype('object')\n",
    "df_credit_card['時間']=pd.to_datetime(df_credit_card['時間'])\n",
    "df_credit_card['時間']=df_credit_card['時間'].dt.strftime('%H:%M')\n",
    "df_credit_card['授權碼']=df_credit_card['授權碼'].astype('object')\n",
    "df_credit_card['調閱編號']=df_credit_card['調閱編號'].astype('object')\n",
    "df_credit_card['卡號']=df_credit_card['卡號'].astype('object')\n",
    "df_credit_card['員工代號']=df_credit_card['員工代號'].astype('object')\n"
   ]
  },
  {
   "cell_type": "code",
   "execution_count": null,
   "metadata": {},
   "outputs": [],
   "source": [
    "df_credit_card.info()"
   ]
  },
  {
   "cell_type": "code",
   "execution_count": null,
   "metadata": {},
   "outputs": [],
   "source": [
    "# 檢查重複\n",
    "df_credit_card.duplicated().value_counts()"
   ]
  },
  {
   "cell_type": "code",
   "execution_count": null,
   "metadata": {},
   "outputs": [],
   "source": [
    "df_credit_card.describe(include = 'object')"
   ]
  },
  {
   "attachments": {},
   "cell_type": "markdown",
   "metadata": {},
   "source": [
    "### 處理ele_data 格式"
   ]
  },
  {
   "attachments": {},
   "cell_type": "markdown",
   "metadata": {},
   "source": [
    "### 處理member_data 格式"
   ]
  },
  {
   "attachments": {},
   "cell_type": "markdown",
   "metadata": {},
   "source": [
    "------"
   ]
  },
  {
   "attachments": {},
   "cell_type": "markdown",
   "metadata": {},
   "source": [
    "## 嘗試合併表格"
   ]
  },
  {
   "cell_type": "code",
   "execution_count": null,
   "metadata": {},
   "outputs": [],
   "source": [
    "df_basket_items[(df_basket_items['序號']==3069) & (df_basket_items['銷售日期']=='2018-04-02')& (df_basket_items['機台']==66)]\n"
   ]
  },
  {
   "cell_type": "code",
   "execution_count": null,
   "metadata": {},
   "outputs": [],
   "source": [
    "df_credit_card[(df_credit_card['序號']==3069) & (df_credit_card['銷售日期']=='2018-04-02')]"
   ]
  },
  {
   "attachments": {},
   "cell_type": "markdown",
   "metadata": {},
   "source": [
    "處理ele_data"
   ]
  },
  {
   "cell_type": "code",
   "execution_count": null,
   "metadata": {},
   "outputs": [],
   "source": [
    "df_basket_items[(df_basket_items['序號']==2513) & (df_basket_items['銷售日期']=='2018-04-02') & (df_basket_items['機台']==66)]"
   ]
  },
  {
   "cell_type": "code",
   "execution_count": null,
   "metadata": {},
   "outputs": [],
   "source": [
    "df_ele_data[(df_ele_data['序號']==2513) & (df_ele_data['銷售日期']=='2018/4/2')]"
   ]
  },
  {
   "cell_type": "code",
   "execution_count": null,
   "metadata": {},
   "outputs": [],
   "source": [
    "df_credit_card[(df_credit_card['序號']==2513) & (df_credit_card['銷售日期']=='2018-04-02')]"
   ]
  },
  {
   "attachments": {},
   "cell_type": "markdown",
   "metadata": {},
   "source": [
    "處理member_card"
   ]
  },
  {
   "cell_type": "code",
   "execution_count": null,
   "metadata": {},
   "outputs": [],
   "source": [
    "df_basket_items[(df_basket_items['序號']==1066) & (df_basket_items['銷售日期']=='2018-04-02') & (df_basket_items['機台']==66)]"
   ]
  },
  {
   "cell_type": "code",
   "execution_count": null,
   "metadata": {},
   "outputs": [],
   "source": [
    "df_member_card[(df_member_card['交易序號']==1066) & (df_member_card['日期']=='2018/4/2') & (df_member_card['機台']==585066)]"
   ]
  },
  {
   "attachments": {},
   "cell_type": "markdown",
   "metadata": {},
   "source": [
    "## 結論：\n",
    "* 用【銷售日期+機台+序號】合併表格\n",
    "* 機台需要再+5850"
   ]
  },
  {
   "cell_type": "code",
   "execution_count": null,
   "metadata": {},
   "outputs": [],
   "source": [
    "df_basket_items.info()"
   ]
  },
  {
   "attachments": {},
   "cell_type": "markdown",
   "metadata": {},
   "source": [
    "## 購物籃分析"
   ]
  },
  {
   "cell_type": "code",
   "execution_count": null,
   "metadata": {},
   "outputs": [],
   "source": [
    "df_basket_items['購物籃編號'] = df_basket_items['銷售日期'].dt.strftime('%Y%m%d') + '5850' + df_basket_items['機台'].astype(str) + df_basket_items['序號'].astype(str)\n",
    "df_basket_items['購物籃營收'] = df_basket_items.groupby('購物籃編號')['總金額'].transform('sum')\n",
    "df_basket_items.sort_values(by='購物籃營收',ascending=False)\n"
   ]
  },
  {
   "cell_type": "code",
   "execution_count": null,
   "metadata": {},
   "outputs": [],
   "source": [
    "df_basket_items.head()"
   ]
  },
  {
   "attachments": {},
   "cell_type": "markdown",
   "metadata": {},
   "source": [
    "找出最高營收的購物籃"
   ]
  },
  {
   "cell_type": "code",
   "execution_count": null,
   "metadata": {},
   "outputs": [],
   "source": [
    "revenue_per_basket = df_basket_items.groupby('購物籃編號')['總金額'].sum()\n",
    "df_revenue_per_basket = revenue_per_basket.to_frame()\n",
    "df_revenue_per_basket.sort_values(by='總金額',ascending=False).head(15)"
   ]
  },
  {
   "cell_type": "code",
   "execution_count": null,
   "metadata": {},
   "outputs": [],
   "source": [
    "df_basket_items[df_basket_items['購物籃編號'] == '20180423585047833']"
   ]
  },
  {
   "attachments": {},
   "cell_type": "markdown",
   "metadata": {},
   "source": [
    "## Apriori演算法"
   ]
  },
  {
   "cell_type": "code",
   "execution_count": null,
   "metadata": {},
   "outputs": [],
   "source": [
    "columns_to_keep = ['短品名', '購物籃編號']\n",
    "df_apriori = df_basket_items.filter(columns_to_keep)"
   ]
  },
  {
   "cell_type": "code",
   "execution_count": null,
   "metadata": {},
   "outputs": [],
   "source": [
    "df_apriori"
   ]
  },
  {
   "cell_type": "code",
   "execution_count": null,
   "metadata": {},
   "outputs": [],
   "source": [
    "df_apriori = df_apriori.groupby('購物籃編號')['短品名'].apply(list).reset_index(name='品項')\n",
    "df_apriori['品項'] = df_apriori['品項'].apply(lambda x: list(set(x)))  # 使用集合去除重複值\n",
    "df_apriori"
   ]
  },
  {
   "cell_type": "code",
   "execution_count": null,
   "metadata": {},
   "outputs": [],
   "source": [
    "transactions = df_apriori['品項'].tolist()\n",
    "# 把一些附屬品刪除\n",
    "transactions = [[item for item in sublist if item not in ['瑞仕鑽石鍋印花', 'ＪＯ全店印花','北市環保兩用大']] for sublist in transactions]"
   ]
  },
  {
   "attachments": {},
   "cell_type": "markdown",
   "metadata": {},
   "source": [
    "參數還要再進行調整"
   ]
  },
  {
   "cell_type": "code",
   "execution_count": null,
   "metadata": {},
   "outputs": [],
   "source": [
    "from apyori import apriori\n",
    "rules = apriori(transactions = transactions, min_support = 0.002, min_confidence = 0.01, min_lift = 2, min_length = 2, max_length = 2)\n",
    "results = list(rules)\n",
    "results"
   ]
  },
  {
   "cell_type": "code",
   "execution_count": null,
   "metadata": {},
   "outputs": [],
   "source": [
    "def inspect(results):\n",
    "    lhs         = [tuple(result[2][0][0])[0] for result in results]\n",
    "    rhs         = [tuple(result[2][0][1])[0] for result in results]\n",
    "    supports    = [result[1] for result in results]\n",
    "    confidences = [result[2][0][2] for result in results]\n",
    "    lifts       = [result[2][0][3] for result in results]\n",
    "    return list(zip(lhs, rhs, supports, confidences, lifts))\n",
    "resultsinDataFrame = pd.DataFrame(inspect(results), columns = ['Left Hand Side', 'Right Hand Side', 'Support', 'Confidence', 'Lift'])\n",
    "resultsinDataFrame.sort_values(by='Lift',ascending=False)"
   ]
  },
  {
   "cell_type": "code",
   "execution_count": null,
   "metadata": {},
   "outputs": [],
   "source": []
  }
 ],
 "metadata": {
  "kernelspec": {
   "display_name": "base",
   "language": "python",
   "name": "python3"
  },
  "language_info": {
   "codemirror_mode": {
    "name": "ipython",
    "version": 3
   },
   "file_extension": ".py",
   "mimetype": "text/x-python",
   "name": "python",
   "nbconvert_exporter": "python",
   "pygments_lexer": "ipython3",
   "version": "3.11.2"
  },
  "orig_nbformat": 4
 },
 "nbformat": 4,
 "nbformat_minor": 2
}
